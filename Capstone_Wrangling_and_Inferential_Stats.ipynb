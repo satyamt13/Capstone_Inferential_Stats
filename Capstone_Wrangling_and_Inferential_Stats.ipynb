{
 "cells": [
  {
   "cell_type": "markdown",
   "metadata": {},
   "source": [
    "## W.  Wrangling The Pronto Cycle Share datasets"
   ]
  },
  {
   "cell_type": "markdown",
   "metadata": {},
   "source": [
    "### W. 1 Reading in the datasets"
   ]
  },
  {
   "cell_type": "markdown",
   "metadata": {},
   "source": [
    "The Pronto Seattle cycle share data is available in 3 separate CSV files.\n",
    "1. Station.csv contains data about the 58 Pronto cycle docks around Seattle - https://www.kaggle.com/pronto/cycle-share-dataset/data\n",
    "2. Trip.csv contains data about every trip taken using the Pronto Cycle share system in Seattle from 2014 to 2016 - https://www.kaggle.com/pronto/cycle-share-dataset/data\n",
    "3. Weather.csv contains data about the weather in Seattle that corresponds to the dates of the recorded trips in Seattle in the Trip.csv file - https://www.kaggle.com/pronto/cycle-share-dataset/data\n",
    "\n",
    "Each of the 3 CSV files have been read into separate pandas dataframes. \n",
    "\n",
    "The CSV files are freely available to anyone who wants to use them on Kaggle Datasets - https://www.kaggle.com/datasets"
   ]
  },
  {
   "cell_type": "code",
   "execution_count": 1,
   "metadata": {},
   "outputs": [
    {
     "name": "stderr",
     "output_type": "stream",
     "text": [
      "b'Skipping line 50794: expected 12 fields, saw 20\\n'\n"
     ]
    }
   ],
   "source": [
    "import pandas as pd\n",
    "\n",
    "#Importing and reading csv files directly into pandas dataframe\n",
    "\n",
    "station_data = pd.read_csv('/Users/sam/Data Science/Datasets/station.csv')\n",
    "\n",
    "trip_data = pd.read_csv('/Users/sam/Data Science/Datasets/trip.csv', error_bad_lines=False)\n",
    "\n",
    "weather_data = pd.read_csv('/Users/sam/Data Science/Datasets/weather.csv')"
   ]
  },
  {
   "cell_type": "markdown",
   "metadata": {},
   "source": [
    "**Note: The trip.csv file contained a corrupted line which had to be skipped for the data to be successfully read into pandas DataFrame**"
   ]
  },
  {
   "cell_type": "markdown",
   "metadata": {},
   "source": [
    "### W.2 Cleaning the Station Data Set \n"
   ]
  },
  {
   "cell_type": "code",
   "execution_count": 2,
   "metadata": {
    "scrolled": false
   },
   "outputs": [
    {
     "name": "stdout",
     "output_type": "stream",
     "text": [
      "<class 'pandas.core.frame.DataFrame'>\n",
      "RangeIndex: 58 entries, 0 to 57\n",
      "Data columns (total 9 columns):\n",
      "station_id           58 non-null object\n",
      "name                 58 non-null object\n",
      "lat                  58 non-null float64\n",
      "long                 58 non-null float64\n",
      "install_date         58 non-null object\n",
      "install_dockcount    58 non-null int64\n",
      "modification_date    17 non-null object\n",
      "current_dockcount    58 non-null int64\n",
      "decommission_date    4 non-null object\n",
      "dtypes: float64(2), int64(2), object(5)\n",
      "memory usage: 4.2+ KB\n"
     ]
    }
   ],
   "source": [
    "#Information about the various colums in the station_data DataFrame\n",
    "station_data.info()"
   ]
  },
  {
   "cell_type": "markdown",
   "metadata": {},
   "source": [
    " - **The station dataset contains a column for modification_date of a station which contains the date on which the station dock was modified to hold more or less cycles and null values if the station was never modified after it was initially set up. I will drop this column entirely as it contains only 17 non_null values and does not provide us with information that would be useful for our analysis.**\n",
    "\n",
    "\n",
    "- **The dataset also contains an install_dockcount column which contains the cycle holding capacity of the dock at a station when it was initially set up and the current_dockcount column holds the current cycle holding capacity of a dock at a station. The current_dockcount and the install_dockcount values for a station are the same if it was never modified. Since we are only interested in current values for all stations, I will drop the install_dockcount column entirely.**\n",
    "\n",
    "\n",
    "- **4 out of the 58 stations in Seattle have been decommsioned and are no longer active. I will drop these decommisioned stations from the dataset , to work with only the active stations which also makes the decommissoned_date column unecessary for our analysis and I will be able to drop it as well.**"
   ]
  },
  {
   "cell_type": "code",
   "execution_count": 3,
   "metadata": {
    "collapsed": true
   },
   "outputs": [],
   "source": [
    "#Dropping the modification_date and install_dockcount columns from the dataset\n",
    "station_data = station_data.drop(['modification_date','install_dockcount'],axis=1)"
   ]
  },
  {
   "cell_type": "code",
   "execution_count": 4,
   "metadata": {
    "collapsed": true
   },
   "outputs": [],
   "source": [
    "#Extracting only those stations that were not decommisoned during the time this data was collected\n",
    "active_stations = station_data['decommission_date'].isnull()\n",
    "station_data = station_data.loc[active_stations]"
   ]
  },
  {
   "cell_type": "code",
   "execution_count": 5,
   "metadata": {
    "collapsed": true
   },
   "outputs": [],
   "source": [
    "#Dropping the decommision_date column from the station_data DataFrame \n",
    "station_data = station_data.drop(['decommission_date'],axis=1)"
   ]
  },
  {
   "cell_type": "code",
   "execution_count": 6,
   "metadata": {},
   "outputs": [
    {
     "name": "stdout",
     "output_type": "stream",
     "text": [
      "<class 'pandas.core.frame.DataFrame'>\n",
      "Int64Index: 54 entries, 0 to 57\n",
      "Data columns (total 6 columns):\n",
      "station_id           54 non-null object\n",
      "name                 54 non-null object\n",
      "lat                  54 non-null float64\n",
      "long                 54 non-null float64\n",
      "install_date         54 non-null object\n",
      "current_dockcount    54 non-null int64\n",
      "dtypes: float64(2), int64(1), object(3)\n",
      "memory usage: 3.0+ KB\n"
     ]
    }
   ],
   "source": [
    "#Information about the columns in the cleaned station_data Dataframe\n",
    "station_data.info()"
   ]
  },
  {
   "cell_type": "markdown",
   "metadata": {},
   "source": [
    "#### Exploring the Cleaned station_data Dataframe"
   ]
  },
  {
   "cell_type": "code",
   "execution_count": 7,
   "metadata": {},
   "outputs": [
    {
     "data": {
      "text/html": [
       "<div>\n",
       "<style>\n",
       "    .dataframe thead tr:only-child th {\n",
       "        text-align: right;\n",
       "    }\n",
       "\n",
       "    .dataframe thead th {\n",
       "        text-align: left;\n",
       "    }\n",
       "\n",
       "    .dataframe tbody tr th {\n",
       "        vertical-align: top;\n",
       "    }\n",
       "</style>\n",
       "<table border=\"1\" class=\"dataframe\">\n",
       "  <thead>\n",
       "    <tr style=\"text-align: right;\">\n",
       "      <th></th>\n",
       "      <th>station_id</th>\n",
       "      <th>name</th>\n",
       "      <th>lat</th>\n",
       "      <th>long</th>\n",
       "      <th>install_date</th>\n",
       "      <th>current_dockcount</th>\n",
       "    </tr>\n",
       "  </thead>\n",
       "  <tbody>\n",
       "    <tr>\n",
       "      <th>0</th>\n",
       "      <td>BT-01</td>\n",
       "      <td>3rd Ave &amp; Broad St</td>\n",
       "      <td>47.618418</td>\n",
       "      <td>-122.350964</td>\n",
       "      <td>10/13/2014</td>\n",
       "      <td>18</td>\n",
       "    </tr>\n",
       "    <tr>\n",
       "      <th>1</th>\n",
       "      <td>BT-03</td>\n",
       "      <td>2nd Ave &amp; Vine St</td>\n",
       "      <td>47.615829</td>\n",
       "      <td>-122.348564</td>\n",
       "      <td>10/13/2014</td>\n",
       "      <td>16</td>\n",
       "    </tr>\n",
       "    <tr>\n",
       "      <th>2</th>\n",
       "      <td>BT-04</td>\n",
       "      <td>6th Ave &amp; Blanchard St</td>\n",
       "      <td>47.616094</td>\n",
       "      <td>-122.341102</td>\n",
       "      <td>10/13/2014</td>\n",
       "      <td>16</td>\n",
       "    </tr>\n",
       "    <tr>\n",
       "      <th>3</th>\n",
       "      <td>BT-05</td>\n",
       "      <td>2nd Ave &amp; Blanchard St</td>\n",
       "      <td>47.613110</td>\n",
       "      <td>-122.344208</td>\n",
       "      <td>10/13/2014</td>\n",
       "      <td>14</td>\n",
       "    </tr>\n",
       "    <tr>\n",
       "      <th>4</th>\n",
       "      <td>CBD-03</td>\n",
       "      <td>7th Ave &amp; Union St</td>\n",
       "      <td>47.610731</td>\n",
       "      <td>-122.332447</td>\n",
       "      <td>10/13/2014</td>\n",
       "      <td>20</td>\n",
       "    </tr>\n",
       "  </tbody>\n",
       "</table>\n",
       "</div>"
      ],
      "text/plain": [
       "  station_id                    name        lat        long install_date  \\\n",
       "0      BT-01      3rd Ave & Broad St  47.618418 -122.350964   10/13/2014   \n",
       "1      BT-03       2nd Ave & Vine St  47.615829 -122.348564   10/13/2014   \n",
       "2      BT-04  6th Ave & Blanchard St  47.616094 -122.341102   10/13/2014   \n",
       "3      BT-05  2nd Ave & Blanchard St  47.613110 -122.344208   10/13/2014   \n",
       "4     CBD-03      7th Ave & Union St  47.610731 -122.332447   10/13/2014   \n",
       "\n",
       "   current_dockcount  \n",
       "0                 18  \n",
       "1                 16  \n",
       "2                 16  \n",
       "3                 14  \n",
       "4                 20  "
      ]
     },
     "execution_count": 7,
     "metadata": {},
     "output_type": "execute_result"
    }
   ],
   "source": [
    "#The first five rows of the cleaned Dataframe\n",
    "station_data.head(5)"
   ]
  },
  {
   "cell_type": "markdown",
   "metadata": {},
   "source": [
    "### W.2 Cleaning the Trip Dataset"
   ]
  },
  {
   "cell_type": "markdown",
   "metadata": {},
   "source": [
    "The trip dataset contains some null values only in 2 columns, namely 'gender' and 'birthyear'. Furthermore these null values only occur when the trip belongs to Short Term Passholder , which ranges from a 24 hour pass or a 3 day pass as offered by Pronto as compared to a trip made by someone who is a Member, which could be a monthly subscription or a yearly one to the Pronto Cycle Share.\n",
    "\n",
    "For the purpose of cleaning the null values and for a more precise analysis, I will split the trip data set on the basis of the client being a Member or a Temporary Pass Holder into 2 separate datasets. "
   ]
  },
  {
   "cell_type": "code",
   "execution_count": 8,
   "metadata": {},
   "outputs": [
    {
     "name": "stdout",
     "output_type": "stream",
     "text": [
      "<class 'pandas.core.frame.DataFrame'>\n",
      "RangeIndex: 286857 entries, 0 to 286856\n",
      "Data columns (total 12 columns):\n",
      "trip_id              286857 non-null int64\n",
      "starttime            286857 non-null object\n",
      "stoptime             286857 non-null object\n",
      "bikeid               286857 non-null object\n",
      "tripduration         286857 non-null float64\n",
      "from_station_name    286857 non-null object\n",
      "to_station_name      286857 non-null object\n",
      "from_station_id      286857 non-null object\n",
      "to_station_id        286857 non-null object\n",
      "usertype             286857 non-null object\n",
      "gender               181557 non-null object\n",
      "birthyear            181553 non-null float64\n",
      "dtypes: float64(2), int64(1), object(9)\n",
      "memory usage: 26.3+ MB\n"
     ]
    }
   ],
   "source": [
    "#Information about the various columns in the trip_data Dataframe\n",
    "trip_data.info()"
   ]
  },
  {
   "cell_type": "markdown",
   "metadata": {},
   "source": [
    "**The trip dataset contains 181,557 trips where the user was a member and 105,300 trips where the user was a Short Term Pass Holder.**"
   ]
  },
  {
   "cell_type": "code",
   "execution_count": 9,
   "metadata": {},
   "outputs": [
    {
     "data": {
      "text/plain": [
       "Member                    181557\n",
       "Short-Term Pass Holder    105300\n",
       "Name: usertype, dtype: int64"
      ]
     },
     "execution_count": 9,
     "metadata": {},
     "output_type": "execute_result"
    }
   ],
   "source": [
    "#Counting the number of member and short_term pass holder trips in the dataset\n",
    "trip_data['usertype'].value_counts()"
   ]
  },
  {
   "cell_type": "markdown",
   "metadata": {},
   "source": [
    "**To create the member only dataset, I will:**\n",
    "\n",
    "- **Extract all the rows from the original trip dataset where the column usertype contains the value 'Member'and store it in separate dataset.**\n",
    "\n",
    "\n",
    "- **Drop any rows with null value in gender or birthyear column if any remain.**\n",
    "\n",
    "\n",
    "- **Drop the usertype column entirely as it has become redundant for this dataset.**"
   ]
  },
  {
   "cell_type": "code",
   "execution_count": 10,
   "metadata": {
    "collapsed": true
   },
   "outputs": [],
   "source": [
    "#Extracting information about only the member trips and storing them in a separate Dataframe\n",
    "member_only = trip_data['usertype'] == 'Member'\n",
    "member_trip_data = trip_data.loc[member_only]\n",
    "\n",
    "#Dropping the 4 rows with missing values in the birthyear column from the member trip data set\n",
    "birthyear_present = member_trip_data['birthyear'].notnull()\n",
    "member_trip_data = member_trip_data.loc[birthyear_present]"
   ]
  },
  {
   "cell_type": "code",
   "execution_count": 11,
   "metadata": {
    "collapsed": true
   },
   "outputs": [],
   "source": [
    "#Removing the usertype column from the member trip data set since it is redundant \n",
    "member_trip_data = member_trip_data.drop(['usertype'],axis = 1)"
   ]
  },
  {
   "cell_type": "markdown",
   "metadata": {},
   "source": [
    "**The new dataset 'member_trip_data' does not contain any null values in any of it's columns.**"
   ]
  },
  {
   "cell_type": "code",
   "execution_count": 12,
   "metadata": {},
   "outputs": [
    {
     "name": "stdout",
     "output_type": "stream",
     "text": [
      "<class 'pandas.core.frame.DataFrame'>\n",
      "Int64Index: 181553 entries, 0 to 286848\n",
      "Data columns (total 11 columns):\n",
      "trip_id              181553 non-null int64\n",
      "starttime            181553 non-null object\n",
      "stoptime             181553 non-null object\n",
      "bikeid               181553 non-null object\n",
      "tripduration         181553 non-null float64\n",
      "from_station_name    181553 non-null object\n",
      "to_station_name      181553 non-null object\n",
      "from_station_id      181553 non-null object\n",
      "to_station_id        181553 non-null object\n",
      "gender               181553 non-null object\n",
      "birthyear            181553 non-null float64\n",
      "dtypes: float64(2), int64(1), object(8)\n",
      "memory usage: 16.6+ MB\n"
     ]
    }
   ],
   "source": [
    "member_trip_data.info()"
   ]
  },
  {
   "cell_type": "code",
   "execution_count": 13,
   "metadata": {
    "scrolled": true
   },
   "outputs": [
    {
     "data": {
      "text/html": [
       "<div>\n",
       "<style>\n",
       "    .dataframe thead tr:only-child th {\n",
       "        text-align: right;\n",
       "    }\n",
       "\n",
       "    .dataframe thead th {\n",
       "        text-align: left;\n",
       "    }\n",
       "\n",
       "    .dataframe tbody tr th {\n",
       "        vertical-align: top;\n",
       "    }\n",
       "</style>\n",
       "<table border=\"1\" class=\"dataframe\">\n",
       "  <thead>\n",
       "    <tr style=\"text-align: right;\">\n",
       "      <th></th>\n",
       "      <th>trip_id</th>\n",
       "      <th>starttime</th>\n",
       "      <th>stoptime</th>\n",
       "      <th>bikeid</th>\n",
       "      <th>tripduration</th>\n",
       "      <th>from_station_name</th>\n",
       "      <th>to_station_name</th>\n",
       "      <th>from_station_id</th>\n",
       "      <th>to_station_id</th>\n",
       "      <th>gender</th>\n",
       "      <th>birthyear</th>\n",
       "    </tr>\n",
       "  </thead>\n",
       "  <tbody>\n",
       "    <tr>\n",
       "      <th>0</th>\n",
       "      <td>431</td>\n",
       "      <td>10/13/2014 10:31</td>\n",
       "      <td>10/13/2014 10:48</td>\n",
       "      <td>SEA00298</td>\n",
       "      <td>985.935</td>\n",
       "      <td>2nd Ave &amp; Spring St</td>\n",
       "      <td>Occidental Park / Occidental Ave S &amp; S Washing...</td>\n",
       "      <td>CBD-06</td>\n",
       "      <td>PS-04</td>\n",
       "      <td>Male</td>\n",
       "      <td>1960.0</td>\n",
       "    </tr>\n",
       "    <tr>\n",
       "      <th>1</th>\n",
       "      <td>432</td>\n",
       "      <td>10/13/2014 10:32</td>\n",
       "      <td>10/13/2014 10:48</td>\n",
       "      <td>SEA00195</td>\n",
       "      <td>926.375</td>\n",
       "      <td>2nd Ave &amp; Spring St</td>\n",
       "      <td>Occidental Park / Occidental Ave S &amp; S Washing...</td>\n",
       "      <td>CBD-06</td>\n",
       "      <td>PS-04</td>\n",
       "      <td>Male</td>\n",
       "      <td>1970.0</td>\n",
       "    </tr>\n",
       "    <tr>\n",
       "      <th>2</th>\n",
       "      <td>433</td>\n",
       "      <td>10/13/2014 10:33</td>\n",
       "      <td>10/13/2014 10:48</td>\n",
       "      <td>SEA00486</td>\n",
       "      <td>883.831</td>\n",
       "      <td>2nd Ave &amp; Spring St</td>\n",
       "      <td>Occidental Park / Occidental Ave S &amp; S Washing...</td>\n",
       "      <td>CBD-06</td>\n",
       "      <td>PS-04</td>\n",
       "      <td>Female</td>\n",
       "      <td>1988.0</td>\n",
       "    </tr>\n",
       "    <tr>\n",
       "      <th>3</th>\n",
       "      <td>434</td>\n",
       "      <td>10/13/2014 10:34</td>\n",
       "      <td>10/13/2014 10:48</td>\n",
       "      <td>SEA00333</td>\n",
       "      <td>865.937</td>\n",
       "      <td>2nd Ave &amp; Spring St</td>\n",
       "      <td>Occidental Park / Occidental Ave S &amp; S Washing...</td>\n",
       "      <td>CBD-06</td>\n",
       "      <td>PS-04</td>\n",
       "      <td>Female</td>\n",
       "      <td>1977.0</td>\n",
       "    </tr>\n",
       "    <tr>\n",
       "      <th>4</th>\n",
       "      <td>435</td>\n",
       "      <td>10/13/2014 10:34</td>\n",
       "      <td>10/13/2014 10:49</td>\n",
       "      <td>SEA00202</td>\n",
       "      <td>923.923</td>\n",
       "      <td>2nd Ave &amp; Spring St</td>\n",
       "      <td>Occidental Park / Occidental Ave S &amp; S Washing...</td>\n",
       "      <td>CBD-06</td>\n",
       "      <td>PS-04</td>\n",
       "      <td>Male</td>\n",
       "      <td>1971.0</td>\n",
       "    </tr>\n",
       "  </tbody>\n",
       "</table>\n",
       "</div>"
      ],
      "text/plain": [
       "   trip_id         starttime          stoptime    bikeid  tripduration  \\\n",
       "0      431  10/13/2014 10:31  10/13/2014 10:48  SEA00298       985.935   \n",
       "1      432  10/13/2014 10:32  10/13/2014 10:48  SEA00195       926.375   \n",
       "2      433  10/13/2014 10:33  10/13/2014 10:48  SEA00486       883.831   \n",
       "3      434  10/13/2014 10:34  10/13/2014 10:48  SEA00333       865.937   \n",
       "4      435  10/13/2014 10:34  10/13/2014 10:49  SEA00202       923.923   \n",
       "\n",
       "     from_station_name                                    to_station_name  \\\n",
       "0  2nd Ave & Spring St  Occidental Park / Occidental Ave S & S Washing...   \n",
       "1  2nd Ave & Spring St  Occidental Park / Occidental Ave S & S Washing...   \n",
       "2  2nd Ave & Spring St  Occidental Park / Occidental Ave S & S Washing...   \n",
       "3  2nd Ave & Spring St  Occidental Park / Occidental Ave S & S Washing...   \n",
       "4  2nd Ave & Spring St  Occidental Park / Occidental Ave S & S Washing...   \n",
       "\n",
       "  from_station_id to_station_id  gender  birthyear  \n",
       "0          CBD-06         PS-04    Male     1960.0  \n",
       "1          CBD-06         PS-04    Male     1970.0  \n",
       "2          CBD-06         PS-04  Female     1988.0  \n",
       "3          CBD-06         PS-04  Female     1977.0  \n",
       "4          CBD-06         PS-04    Male     1971.0  "
      ]
     },
     "execution_count": 13,
     "metadata": {},
     "output_type": "execute_result"
    }
   ],
   "source": [
    "member_trip_data.head(5)"
   ]
  },
  {
   "cell_type": "markdown",
   "metadata": {},
   "source": [
    "** Since the dataset does not contain gender and birthyear data for the trips taken by non members and so these columns only contain null values. To get a clean dataset for Temporary Pass Holders, I will:**\n",
    "\n",
    "- **Extract all the rows from the original trip dataset where the usertype column contains the value 'Temporary Pass Holder'**\n",
    "\n",
    "\n",
    "- **Drop birthname and gender column completely as they only contain null values for non members** \n",
    "\n",
    "\n",
    "- **Drop the usertype column as it has become redundant for this dataset**"
   ]
  },
  {
   "cell_type": "code",
   "execution_count": 14,
   "metadata": {
    "collapsed": true
   },
   "outputs": [],
   "source": [
    "#Extracting the information about the Short Term Pass Holder trips and storing them in a separate Dataframe \n",
    "pholder_only = trip_data['usertype'] == 'Short-Term Pass Holder'\n",
    "pholder_trip_data = trip_data.loc[pholder_only]"
   ]
  },
  {
   "cell_type": "code",
   "execution_count": 15,
   "metadata": {
    "collapsed": true
   },
   "outputs": [],
   "source": [
    "#Dropping the colums containing all null values in the pass holder and the usertype column which has become redundant \n",
    "pholder_trip_data = pholder_trip_data.drop(['usertype','gender','birthyear'],axis = 1)"
   ]
  },
  {
   "cell_type": "markdown",
   "metadata": {},
   "source": [
    "**The new datset 'pholder_trip_data' does not contain any null values in any of it's columns**"
   ]
  },
  {
   "cell_type": "code",
   "execution_count": 16,
   "metadata": {},
   "outputs": [
    {
     "name": "stdout",
     "output_type": "stream",
     "text": [
      "<class 'pandas.core.frame.DataFrame'>\n",
      "Int64Index: 105300 entries, 69 to 286856\n",
      "Data columns (total 9 columns):\n",
      "trip_id              105300 non-null int64\n",
      "starttime            105300 non-null object\n",
      "stoptime             105300 non-null object\n",
      "bikeid               105300 non-null object\n",
      "tripduration         105300 non-null float64\n",
      "from_station_name    105300 non-null object\n",
      "to_station_name      105300 non-null object\n",
      "from_station_id      105300 non-null object\n",
      "to_station_id        105300 non-null object\n",
      "dtypes: float64(1), int64(1), object(7)\n",
      "memory usage: 8.0+ MB\n"
     ]
    }
   ],
   "source": [
    "pholder_trip_data.info()"
   ]
  },
  {
   "cell_type": "code",
   "execution_count": 17,
   "metadata": {},
   "outputs": [
    {
     "data": {
      "text/html": [
       "<div>\n",
       "<style>\n",
       "    .dataframe thead tr:only-child th {\n",
       "        text-align: right;\n",
       "    }\n",
       "\n",
       "    .dataframe thead th {\n",
       "        text-align: left;\n",
       "    }\n",
       "\n",
       "    .dataframe tbody tr th {\n",
       "        vertical-align: top;\n",
       "    }\n",
       "</style>\n",
       "<table border=\"1\" class=\"dataframe\">\n",
       "  <thead>\n",
       "    <tr style=\"text-align: right;\">\n",
       "      <th></th>\n",
       "      <th>trip_id</th>\n",
       "      <th>starttime</th>\n",
       "      <th>stoptime</th>\n",
       "      <th>bikeid</th>\n",
       "      <th>tripduration</th>\n",
       "      <th>from_station_name</th>\n",
       "      <th>to_station_name</th>\n",
       "      <th>from_station_id</th>\n",
       "      <th>to_station_id</th>\n",
       "    </tr>\n",
       "  </thead>\n",
       "  <tbody>\n",
       "    <tr>\n",
       "      <th>69</th>\n",
       "      <td>507</td>\n",
       "      <td>10/13/2014 12:11</td>\n",
       "      <td>10/13/2014 12:16</td>\n",
       "      <td>SEA00321</td>\n",
       "      <td>332.457</td>\n",
       "      <td>City Hall / 4th Ave &amp; James St</td>\n",
       "      <td>City Hall / 4th Ave &amp; James St</td>\n",
       "      <td>CBD-07</td>\n",
       "      <td>CBD-07</td>\n",
       "    </tr>\n",
       "    <tr>\n",
       "      <th>78</th>\n",
       "      <td>518</td>\n",
       "      <td>10/13/2014 12:20</td>\n",
       "      <td>10/13/2014 12:31</td>\n",
       "      <td>SEA00321</td>\n",
       "      <td>690.793</td>\n",
       "      <td>City Hall / 4th Ave &amp; James St</td>\n",
       "      <td>2nd Ave &amp; Blanchard St</td>\n",
       "      <td>CBD-07</td>\n",
       "      <td>BT-05</td>\n",
       "    </tr>\n",
       "    <tr>\n",
       "      <th>89</th>\n",
       "      <td>530</td>\n",
       "      <td>10/13/2014 12:43</td>\n",
       "      <td>10/13/2014 12:48</td>\n",
       "      <td>SEA00311</td>\n",
       "      <td>278.849</td>\n",
       "      <td>King Street Station Plaza / 2nd Ave Extension ...</td>\n",
       "      <td>King Street Station Plaza / 2nd Ave Extension ...</td>\n",
       "      <td>PS-05</td>\n",
       "      <td>PS-05</td>\n",
       "    </tr>\n",
       "    <tr>\n",
       "      <th>91</th>\n",
       "      <td>533</td>\n",
       "      <td>10/13/2014 12:48</td>\n",
       "      <td>10/13/2014 12:51</td>\n",
       "      <td>SEA00269</td>\n",
       "      <td>179.939</td>\n",
       "      <td>NE 42nd St &amp; University Way NE</td>\n",
       "      <td>12th Ave &amp; NE Campus Pkwy</td>\n",
       "      <td>UD-02</td>\n",
       "      <td>UD-04</td>\n",
       "    </tr>\n",
       "    <tr>\n",
       "      <th>92</th>\n",
       "      <td>534</td>\n",
       "      <td>10/13/2014 12:48</td>\n",
       "      <td>10/13/2014 12:58</td>\n",
       "      <td>SEA00355</td>\n",
       "      <td>590.698</td>\n",
       "      <td>9th Ave N &amp; Mercer St</td>\n",
       "      <td>Dexter Ave &amp; Denny Way</td>\n",
       "      <td>DPD-01</td>\n",
       "      <td>SLU-18</td>\n",
       "    </tr>\n",
       "  </tbody>\n",
       "</table>\n",
       "</div>"
      ],
      "text/plain": [
       "    trip_id         starttime          stoptime    bikeid  tripduration  \\\n",
       "69      507  10/13/2014 12:11  10/13/2014 12:16  SEA00321       332.457   \n",
       "78      518  10/13/2014 12:20  10/13/2014 12:31  SEA00321       690.793   \n",
       "89      530  10/13/2014 12:43  10/13/2014 12:48  SEA00311       278.849   \n",
       "91      533  10/13/2014 12:48  10/13/2014 12:51  SEA00269       179.939   \n",
       "92      534  10/13/2014 12:48  10/13/2014 12:58  SEA00355       590.698   \n",
       "\n",
       "                                    from_station_name  \\\n",
       "69                     City Hall / 4th Ave & James St   \n",
       "78                     City Hall / 4th Ave & James St   \n",
       "89  King Street Station Plaza / 2nd Ave Extension ...   \n",
       "91                     NE 42nd St & University Way NE   \n",
       "92                              9th Ave N & Mercer St   \n",
       "\n",
       "                                      to_station_name from_station_id  \\\n",
       "69                     City Hall / 4th Ave & James St          CBD-07   \n",
       "78                             2nd Ave & Blanchard St          CBD-07   \n",
       "89  King Street Station Plaza / 2nd Ave Extension ...           PS-05   \n",
       "91                          12th Ave & NE Campus Pkwy           UD-02   \n",
       "92                             Dexter Ave & Denny Way          DPD-01   \n",
       "\n",
       "   to_station_id  \n",
       "69        CBD-07  \n",
       "78         BT-05  \n",
       "89         PS-05  \n",
       "91         UD-04  \n",
       "92        SLU-18  "
      ]
     },
     "execution_count": 17,
     "metadata": {},
     "output_type": "execute_result"
    }
   ],
   "source": [
    "pholder_trip_data.head(5)"
   ]
  },
  {
   "cell_type": "markdown",
   "metadata": {},
   "source": [
    "## Inferential Statistics"
   ]
  },
  {
   "cell_type": "markdown",
   "metadata": {},
   "source": [
    "### Correlation between the number of docks at a bike station and the trips taken to and from that station"
   ]
  },
  {
   "cell_type": "markdown",
   "metadata": {},
   "source": [
    "I will count the number of trips taken to and from each of the 54 active Pronto cycle share stations in Seattle and compute the pearson correlation coefficient to see if there is any correlation between the number of docks at a station and the number of trips taken to and from a station. "
   ]
  },
  {
   "cell_type": "code",
   "execution_count": 53,
   "metadata": {
    "collapsed": true
   },
   "outputs": [],
   "source": [
    "#Grouping trips by starting point and aggregating by count\n",
    "from_station = trip_data[['from_station_name','trip_id']]\n",
    "from_station_group = from_station.groupby('from_station_name')\n",
    "from_station_count = from_station_group['trip_id'].count()\n",
    "from_station_count = pd.DataFrame(from_station_count).reset_index()\n",
    "from_station_count.columns = ['name','Trips_From_Station'] \n",
    "\n",
    "#Grouping trips by drop off point and aggregating by count\n",
    "to_station = trip_data[['to_station_name','trip_id']]\n",
    "to_station_group = to_station.groupby('to_station_name')\n",
    "to_station_count = to_station_group['trip_id'].count()\n",
    "to_station_count = pd.DataFrame(to_station_count).reset_index()\n",
    "to_station_count.columns = ['name','Trips_To_Station']\n",
    "\n",
    "#Merging the grouped dataframes together on the names of the stations\n",
    "from_to_station_count = pd.merge(from_station_count,to_station_count, on='name')\n",
    "\n",
    "#Extracting the dockcount from the station_data dataframe\n",
    "dockcount = station_data[['name','current_dockcount']]\n",
    "\n",
    "#Merging the dockcount grouped dataframe\n",
    "from_to_station_dockcount = pd.merge(from_to_station_count, dockcount, on = 'name')"
   ]
  },
  {
   "cell_type": "code",
   "execution_count": 55,
   "metadata": {},
   "outputs": [
    {
     "data": {
      "text/html": [
       "<div>\n",
       "<style>\n",
       "    .dataframe thead tr:only-child th {\n",
       "        text-align: right;\n",
       "    }\n",
       "\n",
       "    .dataframe thead th {\n",
       "        text-align: left;\n",
       "    }\n",
       "\n",
       "    .dataframe tbody tr th {\n",
       "        vertical-align: top;\n",
       "    }\n",
       "</style>\n",
       "<table border=\"1\" class=\"dataframe\">\n",
       "  <thead>\n",
       "    <tr style=\"text-align: right;\">\n",
       "      <th></th>\n",
       "      <th>current_dockcount</th>\n",
       "      <th>Trips_From_Station</th>\n",
       "      <th>Trips_To_Station</th>\n",
       "    </tr>\n",
       "  </thead>\n",
       "  <tbody>\n",
       "    <tr>\n",
       "      <th>0</th>\n",
       "      <td>16</td>\n",
       "      <td>3837</td>\n",
       "      <td>1234</td>\n",
       "    </tr>\n",
       "    <tr>\n",
       "      <th>1</th>\n",
       "      <td>16</td>\n",
       "      <td>6322</td>\n",
       "      <td>2419</td>\n",
       "    </tr>\n",
       "    <tr>\n",
       "      <th>2</th>\n",
       "      <td>16</td>\n",
       "      <td>3630</td>\n",
       "      <td>4807</td>\n",
       "    </tr>\n",
       "    <tr>\n",
       "      <th>3</th>\n",
       "      <td>16</td>\n",
       "      <td>7680</td>\n",
       "      <td>2391</td>\n",
       "    </tr>\n",
       "    <tr>\n",
       "      <th>4</th>\n",
       "      <td>16</td>\n",
       "      <td>2801</td>\n",
       "      <td>3152</td>\n",
       "    </tr>\n",
       "  </tbody>\n",
       "</table>\n",
       "</div>"
      ],
      "text/plain": [
       "   current_dockcount  Trips_From_Station  Trips_To_Station\n",
       "0                 16                3837              1234\n",
       "1                 16                6322              2419\n",
       "2                 16                3630              4807\n",
       "3                 16                7680              2391\n",
       "4                 16                2801              3152"
      ]
     },
     "execution_count": 55,
     "metadata": {},
     "output_type": "execute_result"
    }
   ],
   "source": [
    "#Displaying the first 5 rows of the dock_from_to station\n",
    "dock_from_to = from_to_station_dockcount[['current_dockcount','Trips_From_Station','Trips_To_Station']]\n",
    "dock_from_to.head(5)"
   ]
  },
  {
   "cell_type": "markdown",
   "metadata": {},
   "source": [
    "#### Pairplot showing number of trips to a station, from a station and number of docks at each station"
   ]
  },
  {
   "cell_type": "code",
   "execution_count": 56,
   "metadata": {},
   "outputs": [
    {
     "data": {
      "image/png": "[encoded data removed]",
      "text/plain": [
       "<matplotlib.figure.Figure at 0x124933e48>"
      ]
     },
     "metadata": {},
     "output_type": "display_data"
    }
   ],
   "source": [
    "#Generating a pairplot to see correlation if there is any\n",
    "sns.pairplot(dock_from_to)\n",
    "plt.show()"
   ]
  },
  {
   "cell_type": "markdown",
   "metadata": {},
   "source": [
    "#### Initial Observation\n",
    "From the pairplot above we see that there is a very slight correlation between the number of trips taken from a station and the number of docks at a station, the number of trips taken to a station and the number of docks at a station. There is a much stronger relationship between the number of trips taken from a station and the number of trips taken to a station which speaks to the overall popularity of any given station.\n",
    "\n",
    "Computing the pearson correlation coefficients and computing the p_value from their test of correlation will help us further quantify these relationships. "
   ]
  },
  {
   "cell_type": "markdown",
   "metadata": {},
   "source": [
    "#### Pearson Correlation Coefficient and P_values"
   ]
  },
  {
   "cell_type": "markdown",
   "metadata": {},
   "source": [
    "I will generate 100,000 permutation replicates under the **null hypothesis** that data is not correlated to compute the p-value of the data being correlated (as much as it is) by chance."
   ]
  },
  {
   "cell_type": "code",
   "execution_count": 34,
   "metadata": {
    "collapsed": true
   },
   "outputs": [],
   "source": [
    "from scipy import stats\n",
    "import numpy as np\n",
    "\n",
    "#Writing a function that computes the coerr_mat for 2 given arrays\n",
    "def calc_pearson(x,y):\n",
    "    coerr_mat = np.corrcoef(x,y)\n",
    "    return coerr_mat[0,1]"
   ]
  },
  {
   "cell_type": "code",
   "execution_count": 35,
   "metadata": {},
   "outputs": [
    {
     "name": "stdout",
     "output_type": "stream",
     "text": [
      "Pearson correlation coefficient for number of docks at a station and number of trips taken from that station:\n",
      "0.287489634451\n",
      "P-value:\n",
      "0.01962\n"
     ]
    }
   ],
   "source": [
    "from_dockcount = pd.merge(from_station_count,dockcount, on = 'name')\n",
    "dock_count = from_dockcount['current_dockcount']\n",
    "from_trips = from_dockcount['Trips_From_Station']\n",
    "observed_pearson = calc_pearson(dock_count, from_trips)\n",
    "print('Pearson correlation coefficient for number of docks at a station and number of trips taken from that station:')\n",
    "print(observed_pearson)\n",
    "\n",
    "#Stimulating the data under the null hypothesis\n",
    "perm_reps = np.empty(100000)\n",
    "for i in range(100000):\n",
    "    perm_res = np.random.permutation(from_trips)\n",
    "    perm_rep = calc_pearson(dock_count,perm_res)\n",
    "    perm_reps[i] = perm_rep\n",
    "    \n",
    "p_value = np.sum(perm_reps >= observed_pearson) / len(perm_reps)\n",
    "print('P-value:')\n",
    "print(p_value)"
   ]
  },
  {
   "cell_type": "code",
   "execution_count": 36,
   "metadata": {},
   "outputs": [
    {
     "name": "stdout",
     "output_type": "stream",
     "text": [
      "Pearson correlation coefficient for number of docks at a station and number of trips taken to that station:\n",
      "0.320496700678\n",
      "P-value:\n",
      "0.01085\n"
     ]
    }
   ],
   "source": [
    "to_dockcount = pd.merge(to_station_count,dockcount, on = 'name')\n",
    "dock_count = to_dockcount['current_dockcount']\n",
    "to_trips = to_dockcount['Trips_To_Station']\n",
    "observed_pearson = calc_pearson(dock_count, to_trips)\n",
    "print('Pearson correlation coefficient for number of docks at a station and number of trips taken to that station:')\n",
    "print(observed_pearson)\n",
    "\n",
    "#Stimulating the data under the null hypothesis\n",
    "perm_reps = np.empty(100000)\n",
    "for i in range(100000):\n",
    "    perm_res = np.random.permutation(to_trips)\n",
    "    perm_rep = calc_pearson(dock_count,perm_res)\n",
    "    perm_reps[i] = perm_rep\n",
    "    \n",
    "p_value = np.sum(perm_reps >= observed_pearson) / len(perm_reps)\n",
    "print('P-value:')\n",
    "print(p_value)"
   ]
  },
  {
   "cell_type": "code",
   "execution_count": 37,
   "metadata": {},
   "outputs": [
    {
     "name": "stdout",
     "output_type": "stream",
     "text": [
      "Pearson correlation coefficient for number of trips to a station and number of trips taken from that station:\n",
      "0.75048650149\n",
      "P-value:\n",
      "6.41276740625e-11\n"
     ]
    }
   ],
   "source": [
    "pearson, p_val = stats.pearsonr(dock_from_to['Trips_From_Station'],dock_from_to['Trips_To_Station'])\n",
    "print('Pearson correlation coefficient for number of trips to a station and number of trips taken from that station:')\n",
    "print(pearson)\n",
    "print('P-value:')\n",
    "print(p_val)"
   ]
  },
  {
   "cell_type": "markdown",
   "metadata": {},
   "source": [
    "#### Conclusion:\n",
    " - The correlation coefficients computed supports our initial observation. There is a very small positive correlation between the number of docks at a station and the number of trips taken to and from a station. \n",
    "\n",
    " - There is a relatively higher correlation betweent the trips taken to a station and the number of docks than the trips taken from a station and the number of docks, but the overall correlations is still very small\n",
    "\n",
    " - There is a much higher positive correlation between the trips taken from a station and the trips taken to a station which indicates that a station's overall popularity makes it a popular starting and a popular ending point for users and there is not a huge split between most station's popularity as a starting point and an ending point.\n",
    " \n",
    "**The p_values computed from generating 100,000 permutation replicates indicate statistical significance and even practically we can safely assume that the data is not correlated due to chance**"
   ]
  },
  {
   "cell_type": "markdown",
   "metadata": {},
   "source": [
    "### Correlation between the age of members and trip duration "
   ]
  },
  {
   "cell_type": "code",
   "execution_count": 57,
   "metadata": {},
   "outputs": [
    {
     "data": {
      "text/html": [
       "<div>\n",
       "<style>\n",
       "    .dataframe thead tr:only-child th {\n",
       "        text-align: right;\n",
       "    }\n",
       "\n",
       "    .dataframe thead th {\n",
       "        text-align: left;\n",
       "    }\n",
       "\n",
       "    .dataframe tbody tr th {\n",
       "        vertical-align: top;\n",
       "    }\n",
       "</style>\n",
       "<table border=\"1\" class=\"dataframe\">\n",
       "  <thead>\n",
       "    <tr style=\"text-align: right;\">\n",
       "      <th></th>\n",
       "      <th>trip_id</th>\n",
       "      <th>starttime</th>\n",
       "      <th>stoptime</th>\n",
       "      <th>bikeid</th>\n",
       "      <th>tripduration</th>\n",
       "      <th>from_station_name</th>\n",
       "      <th>to_station_name</th>\n",
       "      <th>from_station_id</th>\n",
       "      <th>to_station_id</th>\n",
       "      <th>gender</th>\n",
       "      <th>birthyear</th>\n",
       "      <th>age</th>\n",
       "    </tr>\n",
       "  </thead>\n",
       "  <tbody>\n",
       "    <tr>\n",
       "      <th>0</th>\n",
       "      <td>431</td>\n",
       "      <td>10/13/2014 10:31</td>\n",
       "      <td>10/13/2014 10:48</td>\n",
       "      <td>SEA00298</td>\n",
       "      <td>985.935</td>\n",
       "      <td>2nd Ave &amp; Spring St</td>\n",
       "      <td>Occidental Park / Occidental Ave S &amp; S Washing...</td>\n",
       "      <td>CBD-06</td>\n",
       "      <td>PS-04</td>\n",
       "      <td>Male</td>\n",
       "      <td>1960.0</td>\n",
       "      <td>57.0</td>\n",
       "    </tr>\n",
       "    <tr>\n",
       "      <th>1</th>\n",
       "      <td>432</td>\n",
       "      <td>10/13/2014 10:32</td>\n",
       "      <td>10/13/2014 10:48</td>\n",
       "      <td>SEA00195</td>\n",
       "      <td>926.375</td>\n",
       "      <td>2nd Ave &amp; Spring St</td>\n",
       "      <td>Occidental Park / Occidental Ave S &amp; S Washing...</td>\n",
       "      <td>CBD-06</td>\n",
       "      <td>PS-04</td>\n",
       "      <td>Male</td>\n",
       "      <td>1970.0</td>\n",
       "      <td>47.0</td>\n",
       "    </tr>\n",
       "    <tr>\n",
       "      <th>2</th>\n",
       "      <td>433</td>\n",
       "      <td>10/13/2014 10:33</td>\n",
       "      <td>10/13/2014 10:48</td>\n",
       "      <td>SEA00486</td>\n",
       "      <td>883.831</td>\n",
       "      <td>2nd Ave &amp; Spring St</td>\n",
       "      <td>Occidental Park / Occidental Ave S &amp; S Washing...</td>\n",
       "      <td>CBD-06</td>\n",
       "      <td>PS-04</td>\n",
       "      <td>Female</td>\n",
       "      <td>1988.0</td>\n",
       "      <td>29.0</td>\n",
       "    </tr>\n",
       "  </tbody>\n",
       "</table>\n",
       "</div>"
      ],
      "text/plain": [
       "   trip_id         starttime          stoptime    bikeid  tripduration  \\\n",
       "0      431  10/13/2014 10:31  10/13/2014 10:48  SEA00298       985.935   \n",
       "1      432  10/13/2014 10:32  10/13/2014 10:48  SEA00195       926.375   \n",
       "2      433  10/13/2014 10:33  10/13/2014 10:48  SEA00486       883.831   \n",
       "\n",
       "     from_station_name                                    to_station_name  \\\n",
       "0  2nd Ave & Spring St  Occidental Park / Occidental Ave S & S Washing...   \n",
       "1  2nd Ave & Spring St  Occidental Park / Occidental Ave S & S Washing...   \n",
       "2  2nd Ave & Spring St  Occidental Park / Occidental Ave S & S Washing...   \n",
       "\n",
       "  from_station_id to_station_id  gender  birthyear   age  \n",
       "0          CBD-06         PS-04    Male     1960.0  57.0  \n",
       "1          CBD-06         PS-04    Male     1970.0  47.0  \n",
       "2          CBD-06         PS-04  Female     1988.0  29.0  "
      ]
     },
     "execution_count": 57,
     "metadata": {},
     "output_type": "execute_result"
    }
   ],
   "source": [
    "#Calculating the age of the members from the birthyear column \n",
    "def age_calc(n):\n",
    "    return 2017 - n\n",
    "\n",
    "member_trip_data['age'] = member_trip_data['birthyear'].apply(age_calc)\n",
    "member_trip_data.head(3)"
   ]
  },
  {
   "cell_type": "code",
   "execution_count": 59,
   "metadata": {},
   "outputs": [
    {
     "data": {
      "text/plain": [
       "(0.10386436641030339, 0.0)"
      ]
     },
     "execution_count": 59,
     "metadata": {},
     "output_type": "execute_result"
    }
   ],
   "source": [
    "#Removing outliers and computing the pearson correlation coefficient and the p-value\n",
    "outlier_filter = member_trip_data['tripduration'] <= 3600\n",
    "member_data = member_trip_data.loc[outlier_filter]\n",
    "member_data.head()\n",
    "stats.pearsonr(member_data['age'],member_data['tripduration'])"
   ]
  },
  {
   "cell_type": "markdown",
   "metadata": {},
   "source": [
    "#### Conclusion: There is an extremely small positive correlation between the age of members and trip duration, whichy indicates that the older members have a very slightly higher trip duration than younger members."
   ]
  },
  {
   "cell_type": "markdown",
   "metadata": {},
   "source": [
    "### Computing the correlation between various weather factors and the number of trips taken on a given day"
   ]
  },
  {
   "cell_type": "markdown",
   "metadata": {},
   "source": [
    "#### Further Procesing the Data \n",
    "Since the data for the trips taken and the weather on each day for the period of time when the data for the trips was collected is contained in two different datasets, it would require further processing the data and merging both the datasets accurately to get a  correlation between weather factors such as mean temperature, maximum temperature, mean humidity, mean wind speed and the number of trips taken on a given day <br>\n",
    "\n",
    "For this I will convert the 'starttime' and 'date' columns of the trips dataset and weather dataset respectively to datetime objects and the merge both the datasets on these columns to get accurate observations of weather attributes and amount of trips for each day.\n"
   ]
  },
  {
   "cell_type": "code",
   "execution_count": 40,
   "metadata": {
    "collapsed": true
   },
   "outputs": [],
   "source": [
    "from datetime import datetime"
   ]
  },
  {
   "cell_type": "code",
   "execution_count": 41,
   "metadata": {
    "scrolled": true
   },
   "outputs": [
    {
     "name": "stderr",
     "output_type": "stream",
     "text": [
      "/Users/sam/anaconda/lib/python3.6/site-packages/ipykernel_launcher.py:14: SettingWithCopyWarning: \n",
      "A value is trying to be set on a copy of a slice from a DataFrame.\n",
      "Try using .loc[row_indexer,col_indexer] = value instead\n",
      "\n",
      "See the caveats in the documentation: http://pandas.pydata.org/pandas-docs/stable/indexing.html#indexing-view-versus-copy\n",
      "  \n",
      "/Users/sam/anaconda/lib/python3.6/site-packages/ipykernel_launcher.py:26: SettingWithCopyWarning: \n",
      "A value is trying to be set on a copy of a slice from a DataFrame.\n",
      "Try using .loc[row_indexer,col_indexer] = value instead\n",
      "\n",
      "See the caveats in the documentation: http://pandas.pydata.org/pandas-docs/stable/indexing.html#indexing-view-versus-copy\n"
     ]
    }
   ],
   "source": [
    "#Extracting required columns from the trip_data dataset\n",
    "trips = trip_data[['trip_id','starttime']]\n",
    "\n",
    "#Writing a function that converts 'starttime' column from trip_data to datetime object\n",
    "def dt_convert(s):\n",
    "    try:\n",
    "        dt = s[:-6]\n",
    "        return datetime.strptime(dt,'%m/%d/%Y')\n",
    "    except:\n",
    "        dt = s[:-5]\n",
    "        return datetime.strptime(dt,'%m/%d/%Y')\n",
    "    \n",
    "#Creating a new column 'date' from starttime by applying dt_convert()\n",
    "trips['date'] = trips['starttime'].apply(dt_convert)\n",
    "\n",
    "\n",
    "\n",
    "#Extracting required columns from the weather_data dataset\n",
    "weather = weather_data[['Date','Mean_Temperature_F','Mean_Humidity','Mean_Wind_Speed_MPH','Max_Temperature_F']]\n",
    "\n",
    "#Writing a function that converts 'Date' column from weather_data to datetime object\n",
    "def dt_conv_simp(s):\n",
    "    return datetime.strptime(s,'%m/%d/%Y')\n",
    "\n",
    "#Creating a new column 'date' from starrtime by applying dt_conv_simp()\n",
    "weather['date'] = weather['Date'].apply(dt_conv_simp)\n"
   ]
  },
  {
   "cell_type": "code",
   "execution_count": 42,
   "metadata": {
    "collapsed": true
   },
   "outputs": [],
   "source": [
    "#Dropping 'starttime' and 'Date' columns from trips and weather resectively\n",
    "trips = trips.drop(['starttime'],axis=1)\n",
    "weather = weather.drop(['Date'],axis=1)"
   ]
  },
  {
   "cell_type": "code",
   "execution_count": 43,
   "metadata": {
    "collapsed": true
   },
   "outputs": [],
   "source": [
    "#Merging trips and weather dataset on the new datetime object 'date' column\n",
    "trips_weather = pd.merge(trips,weather, on='date')"
   ]
  },
  {
   "cell_type": "code",
   "execution_count": 44,
   "metadata": {
    "collapsed": true
   },
   "outputs": [],
   "source": [
    "#Grouping the dataframe to get trips per day with weather stats about each day\n",
    "trips_weather_group = trips_weather.groupby(['date','Mean_Temperature_F','Mean_Humidity','Mean_Wind_Speed_MPH','Max_Temperature_F'])\n",
    "trips_weather_count = trips_weather_group['trip_id'].count()\n",
    "trips_weather_count = pd.DataFrame(trips_weather_count).reset_index()\n",
    "trips_weather_count.columns = ['Date','Mean_Temp(F)','Mean_Humid','Mean_Wind(MPH)','Max_Temp(F)','Trip_Count']"
   ]
  },
  {
   "cell_type": "code",
   "execution_count": 45,
   "metadata": {},
   "outputs": [
    {
     "data": {
      "text/html": [
       "<div>\n",
       "<style>\n",
       "    .dataframe thead tr:only-child th {\n",
       "        text-align: right;\n",
       "    }\n",
       "\n",
       "    .dataframe thead th {\n",
       "        text-align: left;\n",
       "    }\n",
       "\n",
       "    .dataframe tbody tr th {\n",
       "        vertical-align: top;\n",
       "    }\n",
       "</style>\n",
       "<table border=\"1\" class=\"dataframe\">\n",
       "  <thead>\n",
       "    <tr style=\"text-align: right;\">\n",
       "      <th></th>\n",
       "      <th>Date</th>\n",
       "      <th>Mean_Temp(F)</th>\n",
       "      <th>Mean_Humid</th>\n",
       "      <th>Mean_Wind(MPH)</th>\n",
       "      <th>Max_Temp(F)</th>\n",
       "      <th>Trip_Count</th>\n",
       "    </tr>\n",
       "  </thead>\n",
       "  <tbody>\n",
       "    <tr>\n",
       "      <th>0</th>\n",
       "      <td>2014-10-13</td>\n",
       "      <td>62.0</td>\n",
       "      <td>68</td>\n",
       "      <td>4</td>\n",
       "      <td>71</td>\n",
       "      <td>818</td>\n",
       "    </tr>\n",
       "    <tr>\n",
       "      <th>1</th>\n",
       "      <td>2014-10-14</td>\n",
       "      <td>59.0</td>\n",
       "      <td>78</td>\n",
       "      <td>5</td>\n",
       "      <td>63</td>\n",
       "      <td>982</td>\n",
       "    </tr>\n",
       "    <tr>\n",
       "      <th>2</th>\n",
       "      <td>2014-10-15</td>\n",
       "      <td>58.0</td>\n",
       "      <td>77</td>\n",
       "      <td>7</td>\n",
       "      <td>62</td>\n",
       "      <td>626</td>\n",
       "    </tr>\n",
       "    <tr>\n",
       "      <th>3</th>\n",
       "      <td>2014-10-16</td>\n",
       "      <td>61.0</td>\n",
       "      <td>61</td>\n",
       "      <td>4</td>\n",
       "      <td>71</td>\n",
       "      <td>790</td>\n",
       "    </tr>\n",
       "    <tr>\n",
       "      <th>4</th>\n",
       "      <td>2014-10-17</td>\n",
       "      <td>60.0</td>\n",
       "      <td>72</td>\n",
       "      <td>3</td>\n",
       "      <td>64</td>\n",
       "      <td>588</td>\n",
       "    </tr>\n",
       "  </tbody>\n",
       "</table>\n",
       "</div>"
      ],
      "text/plain": [
       "        Date  Mean_Temp(F)  Mean_Humid  Mean_Wind(MPH)  Max_Temp(F)  \\\n",
       "0 2014-10-13          62.0          68               4           71   \n",
       "1 2014-10-14          59.0          78               5           63   \n",
       "2 2014-10-15          58.0          77               7           62   \n",
       "3 2014-10-16          61.0          61               4           71   \n",
       "4 2014-10-17          60.0          72               3           64   \n",
       "\n",
       "   Trip_Count  \n",
       "0         818  \n",
       "1         982  \n",
       "2         626  \n",
       "3         790  \n",
       "4         588  "
      ]
     },
     "execution_count": 45,
     "metadata": {},
     "output_type": "execute_result"
    }
   ],
   "source": [
    "#Displaying the first 5 rows of the new dataset\n",
    "trips_weather_count.head(5)"
   ]
  },
  {
   "cell_type": "markdown",
   "metadata": {},
   "source": [
    "#### Computing the correlation matrix for the dataset to see how amount of trips change according to different weather factors"
   ]
  },
  {
   "cell_type": "code",
   "execution_count": 46,
   "metadata": {},
   "outputs": [
    {
     "data": {
      "text/html": [
       "<div>\n",
       "<style>\n",
       "    .dataframe thead tr:only-child th {\n",
       "        text-align: right;\n",
       "    }\n",
       "\n",
       "    .dataframe thead th {\n",
       "        text-align: left;\n",
       "    }\n",
       "\n",
       "    .dataframe tbody tr th {\n",
       "        vertical-align: top;\n",
       "    }\n",
       "</style>\n",
       "<table border=\"1\" class=\"dataframe\">\n",
       "  <thead>\n",
       "    <tr style=\"text-align: right;\">\n",
       "      <th></th>\n",
       "      <th>Mean_Temp(F)</th>\n",
       "      <th>Mean_Humid</th>\n",
       "      <th>Mean_Wind(MPH)</th>\n",
       "      <th>Max_Temp(F)</th>\n",
       "      <th>Trip_Count</th>\n",
       "    </tr>\n",
       "  </thead>\n",
       "  <tbody>\n",
       "    <tr>\n",
       "      <th>Mean_Temp(F)</th>\n",
       "      <td>1.000000</td>\n",
       "      <td>-0.584973</td>\n",
       "      <td>-0.018131</td>\n",
       "      <td>0.970604</td>\n",
       "      <td>0.399741</td>\n",
       "    </tr>\n",
       "    <tr>\n",
       "      <th>Mean_Humid</th>\n",
       "      <td>-0.584973</td>\n",
       "      <td>1.000000</td>\n",
       "      <td>0.218338</td>\n",
       "      <td>-0.673048</td>\n",
       "      <td>-0.483360</td>\n",
       "    </tr>\n",
       "    <tr>\n",
       "      <th>Mean_Wind(MPH)</th>\n",
       "      <td>-0.018131</td>\n",
       "      <td>0.218338</td>\n",
       "      <td>1.000000</td>\n",
       "      <td>-0.100926</td>\n",
       "      <td>-0.266897</td>\n",
       "    </tr>\n",
       "    <tr>\n",
       "      <th>Max_Temp(F)</th>\n",
       "      <td>0.970604</td>\n",
       "      <td>-0.673048</td>\n",
       "      <td>-0.100926</td>\n",
       "      <td>1.000000</td>\n",
       "      <td>0.432901</td>\n",
       "    </tr>\n",
       "    <tr>\n",
       "      <th>Trip_Count</th>\n",
       "      <td>0.399741</td>\n",
       "      <td>-0.483360</td>\n",
       "      <td>-0.266897</td>\n",
       "      <td>0.432901</td>\n",
       "      <td>1.000000</td>\n",
       "    </tr>\n",
       "  </tbody>\n",
       "</table>\n",
       "</div>"
      ],
      "text/plain": [
       "                Mean_Temp(F)  Mean_Humid  Mean_Wind(MPH)  Max_Temp(F)  \\\n",
       "Mean_Temp(F)        1.000000   -0.584973       -0.018131     0.970604   \n",
       "Mean_Humid         -0.584973    1.000000        0.218338    -0.673048   \n",
       "Mean_Wind(MPH)     -0.018131    0.218338        1.000000    -0.100926   \n",
       "Max_Temp(F)         0.970604   -0.673048       -0.100926     1.000000   \n",
       "Trip_Count          0.399741   -0.483360       -0.266897     0.432901   \n",
       "\n",
       "                Trip_Count  \n",
       "Mean_Temp(F)      0.399741  \n",
       "Mean_Humid       -0.483360  \n",
       "Mean_Wind(MPH)   -0.266897  \n",
       "Max_Temp(F)       0.432901  \n",
       "Trip_Count        1.000000  "
      ]
     },
     "execution_count": 46,
     "metadata": {},
     "output_type": "execute_result"
    }
   ],
   "source": [
    "#Computing the cross correlation matrix for weather and number of trips taken each day\n",
    "corr_mat = trips_weather_count.corr()\n",
    "corr_mat"
   ]
  },
  {
   "cell_type": "markdown",
   "metadata": {},
   "source": [
    "#### Heatmap of the correlation matrix "
   ]
  },
  {
   "cell_type": "code",
   "execution_count": 47,
   "metadata": {},
   "outputs": [
    {
     "data": {
      "image/png": "[encoded data removed]",
      "text/plain": [
       "<matplotlib.figure.Figure at 0x123a6c470>"
      ]
     },
     "metadata": {},
     "output_type": "display_data"
    }
   ],
   "source": [
    "sns.heatmap(corr_mat,cmap=sns.diverging_palette(220, 10, as_cmap=True),square=True)\n",
    "plt.show()"
   ]
  },
  {
   "cell_type": "markdown",
   "metadata": {},
   "source": [
    "#### Initial Observation:\n",
    "Through the correlation matrix and the heatmap we see that the **mean temperature** and the **maximum temperature** are **positively correlated** to the number of trips on a given day while the **mean humidity** and the **mean wind speed** are **negatively correlated** to the number of trips taken on a given day.\n",
    "\n",
    "I will conduct a test of correlation by generating 100,000 permutation replicates to compute the p-value of these correlations occuring by chance."
   ]
  },
  {
   "cell_type": "code",
   "execution_count": 48,
   "metadata": {
    "collapsed": true
   },
   "outputs": [],
   "source": [
    "#Functions that calculate the p-value of two given arrays using permutation resampling\n",
    "def test_of_corr(x:'array',y:'array',obs_pears:int) -> p_value:\n",
    "    perm_reps = np.empty(100000)\n",
    "    \n",
    "    for i in range(100000):\n",
    "        perm_res = np.random.permutation(x)\n",
    "        perm_rep = calc_pearson(perm_res,y)\n",
    "        perm_reps[i] = perm_rep\n",
    "    \n",
    "    return np.sum(perm_reps >= obs_pears) / len(perm_reps)\n",
    "\n",
    "\n",
    "def test_of_corr_n(x:'array',y:'array',obs_pears:int) -> p_value:\n",
    "    perm_reps = np.empty(100000)\n",
    "    \n",
    "    for i in range(100000):\n",
    "        perm_res = np.random.permutation(x)\n",
    "        perm_rep = calc_pearson(perm_res,y)\n",
    "        perm_reps[i] = perm_rep\n",
    "    \n",
    "    return np.sum(perm_reps <= obs_pears) / len(perm_reps)"
   ]
  },
  {
   "cell_type": "markdown",
   "metadata": {},
   "source": [
    "#### Calculating probability value of chance for all the correlations with number of trips"
   ]
  },
  {
   "cell_type": "code",
   "execution_count": 49,
   "metadata": {},
   "outputs": [
    {
     "name": "stdout",
     "output_type": "stream",
     "text": [
      "P_value from test of correlation for number of trips and mean temperature:\n"
     ]
    },
    {
     "data": {
      "text/plain": [
       "0.0"
      ]
     },
     "execution_count": 49,
     "metadata": {},
     "output_type": "execute_result"
    }
   ],
   "source": [
    "p_value1 = test_of_corr(trips_weather_count['Trip_Count'],trips_weather_count['Mean_Temp(F)'],0.399741)\n",
    "print('P_value from test of correlation for number of trips and mean temperature:')\n",
    "p_value1"
   ]
  },
  {
   "cell_type": "code",
   "execution_count": 50,
   "metadata": {},
   "outputs": [
    {
     "name": "stdout",
     "output_type": "stream",
     "text": [
      "P_value from test of correlation for number of trips and mean humidity:\n"
     ]
    },
    {
     "data": {
      "text/plain": [
       "0.0"
      ]
     },
     "execution_count": 50,
     "metadata": {},
     "output_type": "execute_result"
    }
   ],
   "source": [
    "p_value2 = test_of_corr_n(trips_weather_count['Trip_Count'],trips_weather_count['Mean_Humid'],-0.483360)\n",
    "print('P_value from test of correlation for number of trips and mean humidity:')\n",
    "p_value2"
   ]
  },
  {
   "cell_type": "code",
   "execution_count": 51,
   "metadata": {},
   "outputs": [
    {
     "name": "stdout",
     "output_type": "stream",
     "text": [
      "P_value from test of correlation for number of trips and mean wind speed:\n"
     ]
    },
    {
     "data": {
      "text/plain": [
       "0.0"
      ]
     },
     "execution_count": 51,
     "metadata": {},
     "output_type": "execute_result"
    }
   ],
   "source": [
    "p_value3 = test_of_corr_n(trips_weather_count['Trip_Count'],trips_weather_count['Mean_Wind(MPH)'],-0.266897)\n",
    "print('P_value from test of correlation for number of trips and mean wind speed:')\n",
    "p_value3"
   ]
  },
  {
   "cell_type": "code",
   "execution_count": 52,
   "metadata": {},
   "outputs": [
    {
     "name": "stdout",
     "output_type": "stream",
     "text": [
      "P_value from test of correlation for number of trips and maximum temperature:\n"
     ]
    },
    {
     "data": {
      "text/plain": [
       "0.0"
      ]
     },
     "execution_count": 52,
     "metadata": {},
     "output_type": "execute_result"
    }
   ],
   "source": [
    "p_value4 = test_of_corr(trips_weather_count['Trip_Count'],trips_weather_count['Max_Temp(F)'],0.432901)\n",
    "print('P_value from test of correlation for number of trips and maximum temperature:')\n",
    "p_value4"
   ]
  },
  {
   "cell_type": "markdown",
   "metadata": {},
   "source": [
    "#### Conclusion:\n",
    " - The p-values generated in all of the cases, were statistically significant and we can safely assume that the correlation between the weather factors and number of trips is not due to chance.\n",
    " - The mean temperature and the maximum temperetaure are positively correlated with the amount of trips taken on a given day. The positive correlation between maximum temperature and number of trips is relatively higher than the positive correlation between mean temperature and number of trips, in this case they both mean that higher temperature makes for a **favourable condition** for riding using Pronto's bikes for it's users.\n",
    " - The mean humidity and mean wind speed are negatively correlated with the amount of trips taken during a day. The mean humidity neatively affects the amount of trips taken during a day more than the mean wind speed does, but we can assume that they both make for **unfavourable conditons** for Pronto's users."
   ]
  },
  {
   "cell_type": "code",
   "execution_count": null,
   "metadata": {
    "collapsed": true
   },
   "outputs": [],
   "source": []
  }
 ],
 "metadata": {
  "kernelspec": {
   "display_name": "Python 3",
   "language": "python",
   "name": "python3"
  },
  "language_info": {
   "codemirror_mode": {
    "name": "ipython",
    "version": 3
   },
   "file_extension": ".py",
   "mimetype": "text/x-python",
   "name": "python",
   "nbconvert_exporter": "python",
   "pygments_lexer": "ipython3",
   "version": "3.6.3"
  }
 },
 "nbformat": 4,
 "nbformat_minor": 2
}
